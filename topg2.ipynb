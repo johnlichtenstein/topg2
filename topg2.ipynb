{
 "cells": [
  {
   "cell_type": "markdown",
   "metadata": {},
   "source": [
    "## Using topg2 to Store DataFrame to Postgres\n",
    "johnlichtenstein@gmail.com\n",
    "<p>2020-08-18\n",
    "\n",
    "The performance of the Pandas to_sql method when storing on Postgres can be really bad. [Naysan Saran](https://naysan.ca/2020/06/21/pandas-to-postgresql-using-psycopg2-copy_from/) has a good writeup on right and wrong ways to write tables to Postgres with psycopg2.  One method with good performnce is to use the cursor.copy_from method. The [topg2.topg2](https://github.com/johnlichtenstein/topg2) DataFrame method implemnents this, using an interface similar to the to_sql method. <p>\n",
    "The topg2.topg2 method expects a unique integer column named \"id\" it uses to build an index, because that's a typical thing to do. <p>\n",
    "The example below reads a DataFrame with a shape of (62743, 73) from a URL and a database connection json from GoogleDrive.\n",
    "- The csv for the DataFrame is on s3 where anyone can read.\n",
    "- The notebook is expecting to find a file named db.json in /content/drive/My Drive/secrets/. \n",
    "    - To actually run the notebook, a user would need to supply a json that connects them to a Postgres db where the user has write access.   \n",
    "    - Without a connection, the notebook is for browsing. \n",
    "    \n",
    "This demo is also in a [colab](https://colab.research.google.com/drive/1DyJaFpB8zPzcj0KXcDLh49xJpQMPPvlP?usp=sharing)"
   ]
  },
  {
   "cell_type": "code",
   "execution_count": 13,
   "metadata": {},
   "outputs": [],
   "source": [
    "import os\n",
    "from datetime import datetime as dt\n",
    "import pandas as pd\n",
    "import json\n",
    "import requests\n",
    "\n",
    "import psycopg2 as pg2\n",
    "from io import StringIO\n",
    "\n",
    "import topg2 # assuming installed"
   ]
  },
  {
   "cell_type": "markdown",
   "metadata": {},
   "source": [
    "### Get connection to db\n",
    "There needs to be a file ~/secret/db.json that connects user to Postgres. "
   ]
  },
  {
   "cell_type": "code",
   "execution_count": 8,
   "metadata": {},
   "outputs": [],
   "source": [
    "secret = os.path.join(os.path.expanduser(\"~/secret\"), \"db.json\")\n",
    "tD = json.load(open(secret))\n",
    "conn = pg2.connect(**tD)"
   ]
  },
  {
   "cell_type": "markdown",
   "metadata": {},
   "source": [
    "### Loading a DF saved previously\n",
    "And some minor edits. Using a reset_index() to create a unique field named \"id\" that method expects.  "
   ]
  },
  {
   "cell_type": "code",
   "execution_count": 14,
   "metadata": {},
   "outputs": [
    {
     "data": {
      "text/plain": [
       "(62743, 73)"
      ]
     },
     "execution_count": 14,
     "metadata": {},
     "output_type": "execute_result"
    }
   ],
   "source": [
    "s3L = \"https://datadeloro0tutorials.s3-us-west-2.amazonaws.com/sampleData/toPg2/2020.07.07_HYUNDAI.csv\"\n",
    "tR = pd.read_csv(s3L)\n",
    "tR = tR.reset_index().rename(columns={\"index\": \"id\"}) # topg2 expects index named id\n",
    "tR.assetNumber = tR.assetNumber.str.replace(\"=\", \"\").str.replace('\"', \"\") # cleaning\n",
    "tR.shape"
   ]
  },
  {
   "cell_type": "markdown",
   "metadata": {},
   "source": [
    "### Show topg2 creating and appending to table\n",
    "Prints show timing"
   ]
  },
  {
   "cell_type": "code",
   "execution_count": 10,
   "metadata": {},
   "outputs": [
    {
     "name": "stdout",
     "output_type": "stream",
     "text": [
      "18:59:51 starting\n",
      "None\n",
      "18:59:53 first 1000 rows\n",
      "None\n",
      "19:00:12 last 61000 rows\n"
     ]
    }
   ],
   "source": [
    "tN = \"deltable\"\n",
    "print (dt.now().strftime(\"%H:%M:%S\"), \"starting\")\n",
    "print (tR[:1000].topg2(tN, conn)) # None is desired result\n",
    "print (dt.now().strftime(\"%H:%M:%S\"), \"first 1000 rows\")\n",
    "print (tR[1000:].topg2(tN, conn))# None is desired result\n",
    "print (dt.now().strftime(\"%H:%M:%S\"), \"last 61000 rows\")"
   ]
  },
  {
   "cell_type": "markdown",
   "metadata": {},
   "source": [
    "### Check that it worked"
   ]
  },
  {
   "cell_type": "code",
   "execution_count": 11,
   "metadata": {},
   "outputs": [
    {
     "data": {
      "text/html": [
       "<div>\n",
       "<style scoped>\n",
       "    .dataframe tbody tr th:only-of-type {\n",
       "        vertical-align: middle;\n",
       "    }\n",
       "\n",
       "    .dataframe tbody tr th {\n",
       "        vertical-align: top;\n",
       "    }\n",
       "\n",
       "    .dataframe thead th {\n",
       "        text-align: right;\n",
       "    }\n",
       "</style>\n",
       "<table border=\"1\" class=\"dataframe\">\n",
       "  <thead>\n",
       "    <tr style=\"text-align: right;\">\n",
       "      <th></th>\n",
       "      <th>count</th>\n",
       "    </tr>\n",
       "  </thead>\n",
       "  <tbody>\n",
       "    <tr>\n",
       "      <th>0</th>\n",
       "      <td>62743</td>\n",
       "    </tr>\n",
       "  </tbody>\n",
       "</table>\n",
       "</div>"
      ],
      "text/plain": [
       "   count\n",
       "0  62743"
      ]
     },
     "execution_count": 11,
     "metadata": {},
     "output_type": "execute_result"
    }
   ],
   "source": [
    "pd.read_sql(\"select count(*) from public.%s\" %(tN), conn)"
   ]
  },
  {
   "cell_type": "markdown",
   "metadata": {},
   "source": [
    "### Cleanup\n",
    "Postpone cleanup if browsing table in Postgres"
   ]
  },
  {
   "cell_type": "code",
   "execution_count": 12,
   "metadata": {},
   "outputs": [],
   "source": [
    "cur = conn.cursor()\n",
    "cur.execute(\"drop table %s\" %(tN))\n",
    "conn.commit()\n",
    "cur.close()\n",
    "conn.close()"
   ]
  },
  {
   "cell_type": "code",
   "execution_count": null,
   "metadata": {},
   "outputs": [],
   "source": []
  }
 ],
 "metadata": {
  "kernelspec": {
   "display_name": "Python 3",
   "language": "python",
   "name": "python3"
  },
  "language_info": {
   "codemirror_mode": {
    "name": "ipython",
    "version": 3
   },
   "file_extension": ".py",
   "mimetype": "text/x-python",
   "name": "python",
   "nbconvert_exporter": "python",
   "pygments_lexer": "ipython3",
   "version": "3.8.3"
  }
 },
 "nbformat": 4,
 "nbformat_minor": 4
}
